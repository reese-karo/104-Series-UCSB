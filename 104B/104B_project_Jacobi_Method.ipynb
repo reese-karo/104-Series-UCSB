{
 "cells": [
  {
   "cell_type": "markdown",
   "metadata": {},
   "source": [
    "Jacobi Method\n",
    "Explored by John Lain"
   ]
  },
  {
   "cell_type": "code",
   "execution_count": 32,
   "metadata": {},
   "outputs": [],
   "source": [
    "import numpy as np"
   ]
  },
  {
   "cell_type": "markdown",
   "metadata": {},
   "source": [
    "Our Jacobi Method Algorithm:"
   ]
  },
  {
   "cell_type": "code",
   "execution_count": 33,
   "metadata": {},
   "outputs": [],
   "source": [
    "def jacobi(A, b, x0, iterations = 50, tol = 0.000001, true = None):\n",
    "    \"\"\"\n",
    "    Solves a system of linear equations using the Jacobi method\n",
    "    Expected inputs:\n",
    "    A: nxn matrix\n",
    "    b: column vector of length n\n",
    "    x0: initial guess for solution\n",
    "    tol: error between true and numerical solution\n",
    "    true: true solution\n",
    "    \"\"\"\n",
    "    count = 0\n",
    "    x = x0\n",
    "    d = np.diagonal(A)\n",
    "    LU = A - np.diag(d)\n",
    "    n = np.size(b)\n",
    "    if type(true) == np.ndarray:\n",
    "        while max(abs(true - x)) > tol:\n",
    "            count = count + 1\n",
    "            x = (1/d)*(b - LU@x)\n",
    "        print(f\"Number of iterations = {count}\")\n",
    "        return(x)\n",
    "    else:\n",
    "        for i in range(iterations):\n",
    "            x = (1/d)*(b - LU@x)\n",
    "        return(x)\n"
   ]
  },
  {
   "cell_type": "markdown",
   "metadata": {},
   "source": [
    "When writing this code, ran into a few errors: Creating different scenarios for the method alorithm when we include the true solution in our input lead to some issues, and had to use the code \"type(true) == np.ndarray\" which was not clear at first. At first, tried to use matrix multiplication when multiplying by d inverse (like is done in the mathmatical algoritm), however, d is stored as an array in our code and because of vectorized nature of numpy, the solution was to just use the normal multiplication operator."
   ]
  },
  {
   "cell_type": "markdown",
   "metadata": {},
   "source": [
    "Testing our algorithm (example from HW 3):"
   ]
  },
  {
   "cell_type": "code",
   "execution_count": 34,
   "metadata": {},
   "outputs": [
    {
     "name": "stdout",
     "output_type": "stream",
     "text": [
      "Number of iterations = 35\n"
     ]
    },
    {
     "data": {
      "text/plain": [
       "array([0.99999991, 0.99999982, 0.99999974, 0.99999966, 0.99999959,\n",
       "       0.99999953, 0.99999948, 0.99999943, 0.9999994 , 0.99999937,\n",
       "       0.99999936, 0.99999934, 0.99999933, 0.99999932, 0.99999932,\n",
       "       0.99999932, 0.99999932, 0.99999931, 0.99999931, 0.99999931,\n",
       "       0.99999931, 0.99999931, 0.99999931, 0.99999931, 0.99999931,\n",
       "       0.99999931, 0.99999931, 0.99999931, 0.99999931, 0.99999931,\n",
       "       0.99999931, 0.99999931, 0.99999931, 0.99999931, 0.99999931,\n",
       "       0.99999931, 0.99999931, 0.99999931, 0.99999931, 0.99999931,\n",
       "       0.99999931, 0.99999931, 0.99999931, 0.99999931, 0.99999931,\n",
       "       0.99999931, 0.99999931, 0.99999931, 0.99999931, 0.99999931,\n",
       "       0.99999931, 0.99999931, 0.99999931, 0.99999931, 0.99999931,\n",
       "       0.99999931, 0.99999931, 0.99999931, 0.99999931, 0.99999931,\n",
       "       0.99999931, 0.99999931, 0.99999931, 0.99999931, 0.99999931,\n",
       "       0.99999931, 0.99999931, 0.99999931, 0.99999931, 0.99999931,\n",
       "       0.99999931, 0.99999931, 0.99999931, 0.99999931, 0.99999931,\n",
       "       0.99999931, 0.99999931, 0.99999931, 0.99999931, 0.99999931,\n",
       "       0.99999931, 0.99999931, 0.99999931, 0.99999932, 0.99999932,\n",
       "       0.99999932, 0.99999932, 0.99999933, 0.99999934, 0.99999936,\n",
       "       0.99999937, 0.9999994 , 0.99999943, 0.99999948, 0.99999953,\n",
       "       0.99999959, 0.99999966, 0.99999974, 0.99999982, 0.99999991])"
      ]
     },
     "execution_count": 34,
     "metadata": {},
     "output_type": "execute_result"
    }
   ],
   "source": [
    "L = np.diag(-np.ones(99), -1)\n",
    "U = np.diag(-np.ones(99), 1)\n",
    "d = np.diag(3*np.ones(100))\n",
    "A = L + U + d\n",
    "b = np.array([2] + [1]*98 + [2])\n",
    "x = jacobi(A, b, np.zeros(100), tol = 0.000001, true = np.ones(100))\n",
    "x\n"
   ]
  },
  {
   "cell_type": "markdown",
   "metadata": {},
   "source": [
    "Algorithm written by GPT 3.5:"
   ]
  },
  {
   "cell_type": "code",
   "execution_count": 35,
   "metadata": {},
   "outputs": [],
   "source": [
    "def jacobi_GPT(A, b, x0, tol=1e-6, max_iter=1000):\n",
    "    n = len(b)\n",
    "    x = np.array(x0, dtype=float)\n",
    "    x_new = np.zeros_like(x)\n",
    "    \n",
    "    for _ in range(max_iter):\n",
    "        for i in range(n):\n",
    "            sum_ = np.dot(A[i, :i], x[:i]) + np.dot(A[i, i+1:], x[i+1:])\n",
    "            x_new[i] = (b[i] - sum_) / A[i, i]\n",
    "        \n",
    "        if np.linalg.norm(x_new - x) < tol:\n",
    "            return x_new\n",
    "        \n",
    "        x = np.copy(x_new)\n",
    "    \n",
    "    raise ValueError(\"Jacobi method did not converge within the maximum number of iterations\")"
   ]
  },
  {
   "cell_type": "markdown",
   "metadata": {},
   "source": [
    "Chat gpts code stops the alorithm when the difference between the new value and the last value is less than a certain amount, which is different than our code which uses a set number of iterations (or requires the solution which is helpful for testing)"
   ]
  },
  {
   "cell_type": "markdown",
   "metadata": {},
   "source": [
    "Testing Chat GPT's code with example from above:"
   ]
  },
  {
   "cell_type": "code",
   "execution_count": 36,
   "metadata": {},
   "outputs": [
    {
     "name": "stdout",
     "output_type": "stream",
     "text": [
      "[0.99999997 0.99999995 0.99999992 0.9999999  0.99999988 0.99999987\n",
      " 0.99999985 0.99999984 0.99999983 0.99999982 0.99999981 0.99999981\n",
      " 0.9999998  0.9999998  0.9999998  0.9999998  0.9999998  0.9999998\n",
      " 0.9999998  0.9999998  0.9999998  0.9999998  0.9999998  0.9999998\n",
      " 0.9999998  0.9999998  0.9999998  0.9999998  0.9999998  0.9999998\n",
      " 0.9999998  0.9999998  0.9999998  0.9999998  0.9999998  0.9999998\n",
      " 0.9999998  0.9999998  0.9999998  0.9999998  0.9999998  0.9999998\n",
      " 0.9999998  0.9999998  0.9999998  0.9999998  0.9999998  0.9999998\n",
      " 0.9999998  0.9999998  0.9999998  0.9999998  0.9999998  0.9999998\n",
      " 0.9999998  0.9999998  0.9999998  0.9999998  0.9999998  0.9999998\n",
      " 0.9999998  0.9999998  0.9999998  0.9999998  0.9999998  0.9999998\n",
      " 0.9999998  0.9999998  0.9999998  0.9999998  0.9999998  0.9999998\n",
      " 0.9999998  0.9999998  0.9999998  0.9999998  0.9999998  0.9999998\n",
      " 0.9999998  0.9999998  0.9999998  0.9999998  0.9999998  0.9999998\n",
      " 0.9999998  0.9999998  0.9999998  0.9999998  0.99999981 0.99999981\n",
      " 0.99999982 0.99999983 0.99999984 0.99999985 0.99999987 0.99999988\n",
      " 0.9999999  0.99999992 0.99999995 0.99999997]\n",
      "4.832771325347096e-07\n"
     ]
    }
   ],
   "source": [
    "L = np.diag(-np.ones(99), -1)\n",
    "U = np.diag(-np.ones(99), 1)\n",
    "d = np.diag(3*np.ones(100))\n",
    "A = L + U + d\n",
    "b = np.array([2] + [1]*98 + [2])\n",
    "x_GPT = jacobi_GPT(A, b, np.zeros(100), tol = 0.000001)\n",
    "print(x_GPT)\n",
    "print(max(abs(x_GPT - x)))"
   ]
  },
  {
   "cell_type": "markdown",
   "metadata": {},
   "source": [
    "The GPT 3.5 code produced a result extremely close to the result of our code. Asking Chat GPT to write the code took about 2 minutes, whereas the code we wrote took about an hour with trial and error being required."
   ]
  },
  {
   "cell_type": "markdown",
   "metadata": {},
   "source": [
    "Another example from HW3:"
   ]
  },
  {
   "cell_type": "code",
   "execution_count": 37,
   "metadata": {},
   "outputs": [
    {
     "name": "stdout",
     "output_type": "stream",
     "text": [
      "[0.99999997 1.99999994 0.99999997]\n",
      "[0.99999905 1.99999905 0.99999905]\n"
     ]
    }
   ],
   "source": [
    "A = np.array([[2, -1, 0], [-1, 2, -1], [0, -1, 2]])\n",
    "b = np.array([0, 2, 0])\n",
    "x = jacobi(A, b, np.zeros(3))\n",
    "print(x)\n",
    "x_gpt = jacobi_GPT(A, b, np.zeros(3))\n",
    "print(x_gpt)"
   ]
  },
  {
   "cell_type": "markdown",
   "metadata": {},
   "source": [
    "Both functions produced results which were close to the true solution of [1, 2, 1]"
   ]
  }
 ],
 "metadata": {
  "kernelspec": {
   "display_name": "Python 3",
   "language": "python",
   "name": "python3"
  },
  "language_info": {
   "codemirror_mode": {
    "name": "ipython",
    "version": 3
   },
   "file_extension": ".py",
   "mimetype": "text/x-python",
   "name": "python",
   "nbconvert_exporter": "python",
   "pygments_lexer": "ipython3",
   "version": "3.10.2"
  }
 },
 "nbformat": 4,
 "nbformat_minor": 2
}

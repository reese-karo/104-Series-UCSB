{
 "cells": [
  {
   "cell_type": "markdown",
   "metadata": {},
   "source": [
    "# van der Waals Equation\n",
    "- $R\\cdot T = (P + \\frac{a \\cdot n^2}{v^2})(V- b \\cdot n)$\n",
    "- $P = \\frac{R\\cdot T}{V-B} - \\frac{a}{V^2}$\n",
    "\n",
    "where,\n",
    "- V := Volume\n",
    "- T := Temperature at pressure P\n",
    "- P := Pressure \n",
    "- a, b := van der Waals constants\n",
    "    - a provides a measure of the average attraction of the molecules,\n",
    "    - b adjusts for the volume occupied by the gas particle\n",
    "- R := 8.314462618... kg⋅m2⋅s−2⋅K−1⋅mol−1. (Adjust this accordingly)"
   ]
  },
  {
   "cell_type": "markdown",
   "metadata": {},
   "source": [
    "## Bisection Method\n",
    "- over an interval [a,b] we want to find check if $f(a) \\cdot f(b) < 0$\n",
    "- then we need to find the midpoint, $c = \\frac{a + b}{2}$\n",
    "- next we will check if the signs are the same for f(a) and f(c) or check if f(b) anf f(c) have the same signs"
   ]
  },
  {
   "cell_type": "code",
   "execution_count": null,
   "metadata": {},
   "outputs": [],
   "source": [
    "import numpy as np\n",
    "\n",
    "def van_der_waals(V, P, T, a, b, n, R=0.0821):\n",
    "    a_converted = a * 0.9869  # Convert a from bar L^2/mol^2 to atm L^2/mol^2\n",
    "    return P*V**3 - (P*n*b + n*R*T)*V**2 + a_converted*n**2*V - a_converted*n**3*b\n",
    "\n",
    "def bisection(f, a, b, TOL, count=0):\n",
    "    '''\n",
    "    This function will return the root for a given function f. \n",
    "    REQUIRED: f(a)*f(b) < 0.\n",
    "    |f(c)| < tol with c the midpoint.\n",
    "    between a and b Recursive implementation\n",
    "    params:\n",
    "    - f: defined as the function we want to find a root for that is continuous and f(a)*f(b) < 0\n",
    "    '''\n",
    "\n",
    "    # check if a and b bound a root\n",
    "    if np.sign(f(a)) == np.sign(f(b)):\n",
    "        raise Exception(\"The scalars a and b do not bound a root\")\n",
    "    \n",
    "    c = (a + b)/2\n",
    "    count += 1  # Increment the count\n",
    "\n",
    "    if np.abs(f(c)) < TOL:\n",
    "        return c, count  # Return the root and the count\n",
    "    \n",
    "    elif np.sign(f(a)) == np.sign(f(c)):\n",
    "        return bisection(f, c, b, TOL, count)\n",
    "    \n",
    "    elif np.sign(f(b)) == np.sign(f(c)):\n",
    "        return bisection(f, a, c, TOL, count)\n",
    "\n",
    "# Initial guess for V (in L).\n",
    "x0 = 1.0\n",
    "# Parameters for finding the volume using van der Waals equation\n",
    "P = 50\n",
    "T = 273\n",
    "a = 1.355\n",
    "b = 0.03201\n",
    "n = 5\n",
    "R = 0.0821\n",
    "\n",
    "f = lambda V: van_der_waals(V, P=P, T=T, a=a, b=b, n=n, R=R)\n",
    "\n",
    "root, iterations = bisection(f, 0.1, 10, TOL=1e-5)  # Changed the interval to [0.1, 10] as negative volumes are not physical\n",
    "print(f\"The root by bisection method is: {root}\")\n",
    "print(f\"Number of iterations: {iterations}\")\n"
   ]
  },
  {
   "cell_type": "markdown",
   "metadata": {},
   "source": [
    "## Newtons Method\n",
    "$$x_{n+1} = x_n - \\frac{f(x_n)}{f^{\\prime}(x_n)}$$\n",
    "- where f is differentiable and continuous\n",
    "By expanding out our van der Waals equation, we get\n",
    "\n",
    "- $f(V) = P\\cdot V^3 - V^2(P \\cdot b \\cdot n + R \\cdot T \\cdot) - (a \\cdot V \\cdot n) - (a \\cdot b \\cdot n^3)$\n",
    "- $f^\\prime(V) = 3\\cdot p \\cdot V^2 - 2(P\\cdot n \\cdot b - R\\cdot T \\cdot n)V + a\\cdot n^2$"
   ]
  },
  {
   "cell_type": "code",
   "execution_count": 5,
   "metadata": {},
   "outputs": [
    {
     "name": "stdout",
     "output_type": "stream",
     "text": [
      "Newton's Method: 2.1083184613526287 L, 31 iterations taken\n"
     ]
    }
   ],
   "source": [
    "import numpy as np\n",
    "\n",
    "def van_der_waals(V, P, T, a, b, n, R=0.0821):\n",
    "    \"\"\"\n",
    "    Computes the van der Waals equation adjusted to zero.\n",
    "    \"\"\"\n",
    "    a_converted = a * 0.9869  # Convert a from bar L^2/mol^2 to atm L^2/mol^2\n",
    "    return P * V**3 - (P * n * b + n * R * T) * V**2 + a_converted * n**2 * V - a_converted * n**3 * b\n",
    "\n",
    "def derivative_van(V, P, T, a, b, n, R=0.0821):\n",
    "    \"\"\"\n",
    "    Computes the derivative of the van der Waals equation with respect to V.\n",
    "    \"\"\"\n",
    "    a_converted = a * 0.9869\n",
    "    return 3 * P * V**2 - 2 * (P * n * b + n * R * T) * V + a_converted * n**2\n",
    "\n",
    "def newtons_method(f, f_prime, x0, tol=1e-8, max_iterations=100, verbose=False):\n",
    "    \"\"\"\n",
    "    Applies Newton's method to find the root of the equation f(x) = 0.\n",
    "    \"\"\"\n",
    "    x = x0\n",
    "    converged = False\n",
    "\n",
    "    for i in range(max_iterations):\n",
    "        fx = f(x)\n",
    "        fpx = f_prime(x)\n",
    "\n",
    "        # Check if derivative is zero\n",
    "        if fpx == 0:\n",
    "            raise ValueError(f\"Derivative is zero at x = {x}.\")\n",
    "        \n",
    "        # Update x\n",
    "        x_new = x - fx / fpx\n",
    "\n",
    "        # Check convergence criteria\n",
    "        if np.abs(f(x_new)) < tol and np.abs(x_new - x) / np.abs(x) < tol:\n",
    "            converged = True\n",
    "            x = x_new\n",
    "            break\n",
    "\n",
    "        x = x_new\n",
    "\n",
    "        if verbose:\n",
    "            print(f\"Iteration {i}: x = {x}, f(x) = {fx}\")\n",
    "\n",
    "    # Final convergence check\n",
    "    if not converged:\n",
    "        print(\"Warning: Newton's method did not converge after the maximum number of iterations.\")\n",
    "    \n",
    "    return x, i + 1, converged\n",
    "\n",
    "\n",
    "# Parameters for finding the volume using van der Waals equation\n",
    "P = 50  # Pressure in atm\n",
    "T = 273  # Temperature in Kelvin\n",
    "a = 1.355  # Attraction parameter in bar L^2/mol^2\n",
    "b = 0.03201  # Volume correction in L/mol\n",
    "n = 5  # Number of moles\n",
    "\n",
    "# Initial guess for V (in L).\n",
    "x0 = 1.0\n",
    "\n",
    "# Define the function and its derivative\n",
    "f = lambda V: van_der_waals(V, P=P, T=T, a=a, b=b, n=n)\n",
    "f_prime = lambda V: derivative_van(V, P=P, T=T, a=a, b=b, n=n)\n",
    "\n",
    "# Apply Newton's method\n",
    "root, iterations, has_converged = newtons_method(f=f, f_prime=f_prime, x0=x0, verbose=True)\n",
    "\n",
    "# Output the results\n",
    "if has_converged:\n",
    "    print(f\"Newton's Method converged: {root} L after {iterations} iterations.\")\n",
    "else:\n",
    "    print(f\"Newton's Method did not converge after {iterations} iterations.\")"
   ]
  },
  {
   "cell_type": "markdown",
   "metadata": {},
   "source": [
    "\n",
    "- Example from JHP"
   ]
  },
  {
   "cell_type": "code",
   "execution_count": 4,
   "metadata": {},
   "outputs": [
    {
     "name": "stdout",
     "output_type": "stream",
     "text": [
      "Newton's Method : 1.4142135623746899, 5 iterations taken\n"
     ]
    }
   ],
   "source": [
    "import numpy as np\n",
    "\n",
    "def newtons_method(f, f_prime, x0, tol, max_iterations):\n",
    "    '''\n",
    "    params:\n",
    "    - f: the function you are trying to find the roots for\n",
    "    - f_prime: defined as the derivative of the function\n",
    "    - x0: the initial guess of the function for finding the root (if x0 is close, convergence is more likely)\n",
    "    - tol: tolerance to set if the previous iterated x is close to x\n",
    "    - max_iteration: the amount of loops before breaking the function so theres no infinite loop\n",
    "    '''\n",
    "    x_values = [x0]\n",
    "    x = x0\n",
    "    for i in range(max_iterations):\n",
    "        x_pre = x\n",
    "        x = x-(f(x)/f_prime(x))\n",
    "\n",
    "        if np.abs(x - x_pre) < tol:\n",
    "            break\n",
    "        \n",
    "        x_values.append(x)\n",
    "\n",
    "    if i == max_iterations -1:\n",
    "        print(\" Last iteration is completed, Newton method might not have converged. \\n     \")\n",
    "    \n",
    "    return x_values, i+1\n",
    "\n",
    "f = lambda x: x**2 - 2\n",
    "f_prime = lambda x: 2*x\n",
    "x0 = 1\n",
    "\n",
    "newton_x_values, newton_iters = newtons_method(f = f, f_prime = f_prime, x0 = x0, tol=1e-8, max_iterations=30)\n",
    "print(f\"Newton's Method : {newton_x_values[-1]}, {newton_iters} iterations taken\")"
   ]
  },
  {
   "cell_type": "markdown",
   "metadata": {},
   "source": [
    "## Secant method (Newtons but with quotient difference instead of $f^{\\prime}(x_n)$)\n",
    "\n",
    "$$x_{n+1} = x_n - f(x_n)\\frac{x_n - x_{n-1}}{f(x_n) - f(x_{n-1})}$$"
   ]
  },
  {
   "cell_type": "code",
   "execution_count": 8,
   "metadata": {},
   "outputs": [
    {
     "name": "stdout",
     "output_type": "stream",
     "text": [
      "The root found by Secant Method: 2.1083184613526393, 8 iterations taken\n"
     ]
    }
   ],
   "source": [
    "import numpy as np\n",
    "\n",
    "def secant_method(f, x0, x1, tol, max_iterations, verbose=False):\n",
    "    '''\n",
    "    Uses the Secant method to find a root of a function.\n",
    "    \n",
    "    Parameters:\n",
    "    - f: The function for which to find the root.\n",
    "    - x0, x1: The initial two guesses for the root.\n",
    "    - tol: The tolerance for the convergence of the method.\n",
    "    - max_iterations: The maximum number of iterations to perform.\n",
    "    - verbose: Whether to print the process (default: False).\n",
    "    \n",
    "    Returns:\n",
    "    - A dictionary with the root, the number of iterations, and a flag indicating convergence.\n",
    "    '''\n",
    "    \n",
    "    if tol <= 0:\n",
    "        raise ValueError(\"Tolerance must be positive.\")\n",
    "    \n",
    "    for i in range(max_iterations):\n",
    "        f_x0 = f(x0)\n",
    "        f_x1 = f(x1)\n",
    "        denominator = (f_x1 - f_x0)\n",
    "        \n",
    "        # Avoid division by zero\n",
    "        if denominator == 0:\n",
    "            print(\"Warning: Division by zero encountered in the Secant method.\")\n",
    "            return {\"root\": None, \"iterations\": i, \"converged\": False}\n",
    "\n",
    "        x_new = x1 - (f_x1 * (x1 - x0) / denominator)\n",
    "        \n",
    "        if verbose:\n",
    "            print(f\"Iteration {i+1}: x = {x_new}, f(x) = {f(x_new)}\")\n",
    "        \n",
    "        if np.abs(x_new - x1) < tol:\n",
    "            return {\"root\": x_new, \"iterations\": i + 1, \"converged\": True}\n",
    "        \n",
    "        x0, x1 = x1, x_new\n",
    "        \n",
    "    return {\"root\": x1, \"iterations\": max_iterations, \"converged\": False}\n",
    "\n",
    "# Parameters for finding the root using the van der Waals equation\n",
    "x0, x1 = -3, 3\n",
    "P = 50\n",
    "T = 273\n",
    "a = 1.355\n",
    "b = 0.03201\n",
    "n = 5\n",
    "R = 0.0821\n",
    "\n",
    "# Define the function using the van der Waals equation\n",
    "f = lambda V: van_der_waals(V, P=P, T=T, a=a, b=b, n=n, R=R)\n",
    "\n",
    "# Apply the Secant method\n",
    "result = secant_method(f, x0=x0, x1=x1, tol=1e-8, max_iterations=30, verbose=True)\n",
    "\n",
    "# Output the results\n",
    "if result[\"converged\"]:\n",
    "    print(f\"The Secant Method converged: {result['root']} after {result['iterations']} iterations.\")\n",
    "else:\n",
    "    print(f\"The Secant Method did not converge after {result['iterations']} iterations.\")\n"
   ]
  },
  {
   "cell_type": "code",
   "execution_count": 41,
   "metadata": {},
   "outputs": [
    {
     "data": {
      "image/png": "[encoded data removed]",
      "text/plain": [
       "<Figure size 1200x400 with 2 Axes>"
      ]
     },
     "metadata": {},
     "output_type": "display_data"
    }
   ],
   "source": [
    "import matplotlib.pyplot as plt\n",
    "\n",
    "fig, ax = plt.subplots(1, 2, figsize=(12, 4))\n",
    "\n",
    "# Newton's method\n",
    "ax[0].plot(range(len(newton_x_values)), newton_x_values, marker='o')\n",
    "ax[0].set_xlabel('Iteration')\n",
    "ax[0].set_ylabel('x value')\n",
    "ax[0].set_title('Convergence of Newton\\'s Method')\n",
    "ax[0].grid(True)\n",
    "\n",
    "# Secant method\n",
    "ax[1].plot(range(len(sec_x_value)), sec_x_value, marker='o')  # Assuming you have sec_x_values\n",
    "ax[1].set_xlabel('Iteration')\n",
    "ax[1].set_ylabel('x value')\n",
    "ax[1].set_title('Convergence of Secant Method')\n",
    "ax[1].grid(True)\n",
    "\n",
    "plt.show()\n"
   ]
  },
  {
   "cell_type": "markdown",
   "metadata": {},
   "source": [
    "Ideas for comparing efficiency\n",
    "- Comparing the time difference to calculate the root\n",
    "- Comparing the error between true and predicted values\n",
    "- Comparing the sensitivity of the initial guess\n",
    "- Obviously ease of Use"
   ]
  },
  {
   "cell_type": "code",
   "execution_count": null,
   "metadata": {},
   "outputs": [],
   "source": []
  }
 ],
 "metadata": {
  "kernelspec": {
   "display_name": "base",
   "language": "python",
   "name": "python3"
  },
  "language_info": {
   "codemirror_mode": {
    "name": "ipython",
    "version": 3
   },
   "file_extension": ".py",
   "mimetype": "text/x-python",
   "name": "python",
   "nbconvert_exporter": "python",
   "pygments_lexer": "ipython3",
   "version": "3.9.18"
  }
 },
 "nbformat": 4,
 "nbformat_minor": 2
}
